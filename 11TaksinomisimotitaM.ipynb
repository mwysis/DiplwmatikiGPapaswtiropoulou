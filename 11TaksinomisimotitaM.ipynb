{
 "cells": [
  {
   "cell_type": "markdown",
   "metadata": {
    "deletable": true,
    "editable": true
   },
   "source": [
    "# 5.2.2 Ταξινομησιμότητα Βαθμού Δικτύων Αναφορών Χρηστών"
   ]
  },
  {
   "cell_type": "code",
   "execution_count": 1,
   "metadata": {
    "collapsed": false,
    "deletable": true,
    "editable": true
   },
   "outputs": [],
   "source": [
    "import warnings\n",
    "warnings.filterwarnings(\"ignore\")\n",
    "\n",
    "import pandas as pd\n",
    "from pandas.tools.plotting import scatter_matrix\n",
    "import json \n",
    "import os\n",
    "import imp\n",
    "import networkx as nx\n",
    "from collections import Counter\n",
    "import itertools as it\n",
    "import seaborn as sns\n",
    "# sns.set()\n",
    "sns.set_style(\"white\")\n",
    "sns.set_style(\"ticks\") \n",
    "\n",
    "%load_ext autoreload\n",
    "\n",
    "import matplotlib.pyplot as plt\n",
    "%matplotlib inline\n",
    "import random"
   ]
  },
  {
   "cell_type": "code",
   "execution_count": 1,
   "metadata": {
    "collapsed": false,
    "deletable": true,
    "editable": true
   },
   "outputs": [],
   "source": [
    "GG={}\n",
    "import glob,os\n",
    "# fildir='/home/mosesboudourides/Dropbox/GradRes/DiplwmatikiGP/Graphml nets/cut_mention_networks'\n",
    "fildir='/home/dell/Dropbox/GradRes/DiplwmatikiGP/Graphml nets/cut_mention_networks'\n",
    "\n",
    "os.chdir(fildir)\n",
    "graphnames=glob.glob('*.gpic')\n",
    "if len(graphnames)==0:\n",
    "    print 'No graphs'\n",
    "for grns in graphnames:\n",
    "    ww=int(grns.split('_')[-1].split('.')[0])\n",
    "    G=nx.read_gpickle(grns)\n",
    "    \n",
    "    G.name=\"G_%s\" %ww\n",
    "    GG[ww]=G\n",
    "\n",
    "k=1\n",
    "for ww in sorted(GG.keys()):\n",
    "    print \"The number %i cut mentions network has %i nodes and %i edges\" %(k,len(GG[ww].nodes()),len(GG[ww].edges()))\n",
    "    k=k+1"
   ]
  },
  {
   "cell_type": "code",
   "execution_count": 4,
   "metadata": {
    "collapsed": false,
    "deletable": true,
    "editable": true
   },
   "outputs": [
    {
     "name": "stdout",
     "output_type": "stream",
     "text": [
      "[] 0 [1, 2, 3, 4, 5, 6, 7, 8, 44, 10, 11, 12, 13, 14, 15, 16, 49, 50, 9]\n"
     ]
    }
   ],
   "source": [
    "ddg=[]\n",
    "# for i in range(len(GG)-1):\n",
    "sor=sorted(GG)\n",
    "for ij in range(len(sor)-1):\n",
    "    i=sor[ij]\n",
    "    \n",
    "    j=sor[ij+1]\n",
    "    if GG[i].nodes()==GG[j].nodes() and GG[i].edges()==GG[j].edges():\n",
    "        print i,j\n",
    "        ddg.append(i)  \n",
    "print ddg,len(ddg), GG.keys()"
   ]
  },
  {
   "cell_type": "code",
   "execution_count": 22,
   "metadata": {
    "collapsed": false,
    "deletable": true,
    "editable": true
   },
   "outputs": [
    {
     "name": "stdout",
     "output_type": "stream",
     "text": [
      "[-0.096937503401182082, -0.13062600782058281, -0.12939357546228014, -0.089751402177354236, -0.074837808627164437, -0.10582086485952524, -0.11733476062099724, -0.29918675081695512, nan, nan, nan, nan, nan, nan, nan, nan, nan, nan, -0.35634832254989918] 19\n",
      "['G_1', 'G_2', 'G_3', 'G_4', 'G_5', 'G_6', 'G_7', 'G_8', 'G_12', 'G_10', 'G_11', 'G_44', 'G_13', 'G_14', 'G_15', 'G_16', 'G_49', 'G_50', 'G_9']\n"
     ]
    }
   ],
   "source": [
    "import numpy as np\n",
    "import scipy as sci\n",
    "lscc=[]\n",
    "for k,Gg in GG.items():\n",
    "    G=nx.DiGraph(Gg)\n",
    "    ddac=nx.degree_pearson_correlation_coefficient(G,weight=2) \n",
    "\n",
    "        \n",
    "    lscc.append(ddac)\n",
    "print lscc,len(lscc)\n",
    "# \n",
    "nGG=[]\n",
    "for k,i in GG.items():\n",
    "    nGG.append(i.name)\n",
    "print nGG"
   ]
  },
  {
   "cell_type": "code",
   "execution_count": 117,
   "metadata": {
    "collapsed": false,
    "deletable": true,
    "editable": true,
    "scrolled": true
   },
   "outputs": [
    {
     "name": "stdout",
     "output_type": "stream",
     "text": [
      "[('G_1', -0.09693750340118204), ('G_2', -0.13062600782058281), ('G_3', -0.12939357546228011), ('G_4', -0.089751402177354223), ('G_5', -0.074837808627164423), ('G_6', -0.10582086485952527), ('G_7', -0.11733476062099724), ('G_8', -0.29918675081695506), ('G_44', nan), ('G_10', nan), ('G_11', nan), ('G_12', nan), ('G_13', nan), ('G_14', nan), ('G_15', nan), ('G_16', nan), ('G_49', nan), ('G_50', nan), ('G_9', -0.35634832254989918)]\n"
     ]
    }
   ],
   "source": [
    "ddd=zip(nGG,lscc)\n",
    "print ddd"
   ]
  },
  {
   "cell_type": "code",
   "execution_count": 120,
   "metadata": {
    "collapsed": false,
    "deletable": true,
    "editable": true
   },
   "outputs": [
    {
     "data": {
      "text/html": [
       "<div>\n",
       "<table border=\"1\" class=\"dataframe\">\n",
       "  <thead>\n",
       "    <tr style=\"text-align: right;\">\n",
       "      <th></th>\n",
       "      <th>cut mention graph</th>\n",
       "      <th>degree assortativity coefficient</th>\n",
       "      <th>cut-off values</th>\n",
       "    </tr>\n",
       "  </thead>\n",
       "  <tbody>\n",
       "    <tr>\n",
       "      <th>0</th>\n",
       "      <td>G_1</td>\n",
       "      <td>-0.096938</td>\n",
       "      <td>1</td>\n",
       "    </tr>\n",
       "    <tr>\n",
       "      <th>1</th>\n",
       "      <td>G_2</td>\n",
       "      <td>-0.130626</td>\n",
       "      <td>2</td>\n",
       "    </tr>\n",
       "    <tr>\n",
       "      <th>2</th>\n",
       "      <td>G_3</td>\n",
       "      <td>-0.129394</td>\n",
       "      <td>3</td>\n",
       "    </tr>\n",
       "    <tr>\n",
       "      <th>3</th>\n",
       "      <td>G_4</td>\n",
       "      <td>-0.089751</td>\n",
       "      <td>4</td>\n",
       "    </tr>\n",
       "    <tr>\n",
       "      <th>4</th>\n",
       "      <td>G_5</td>\n",
       "      <td>-0.074838</td>\n",
       "      <td>5</td>\n",
       "    </tr>\n",
       "    <tr>\n",
       "      <th>5</th>\n",
       "      <td>G_6</td>\n",
       "      <td>-0.105821</td>\n",
       "      <td>6</td>\n",
       "    </tr>\n",
       "    <tr>\n",
       "      <th>6</th>\n",
       "      <td>G_7</td>\n",
       "      <td>-0.117335</td>\n",
       "      <td>7</td>\n",
       "    </tr>\n",
       "    <tr>\n",
       "      <th>7</th>\n",
       "      <td>G_8</td>\n",
       "      <td>-0.299187</td>\n",
       "      <td>8</td>\n",
       "    </tr>\n",
       "    <tr>\n",
       "      <th>18</th>\n",
       "      <td>G_9</td>\n",
       "      <td>-0.356348</td>\n",
       "      <td>9</td>\n",
       "    </tr>\n",
       "    <tr>\n",
       "      <th>9</th>\n",
       "      <td>G_10</td>\n",
       "      <td>NaN</td>\n",
       "      <td>10</td>\n",
       "    </tr>\n",
       "    <tr>\n",
       "      <th>10</th>\n",
       "      <td>G_11</td>\n",
       "      <td>NaN</td>\n",
       "      <td>11</td>\n",
       "    </tr>\n",
       "    <tr>\n",
       "      <th>11</th>\n",
       "      <td>G_12</td>\n",
       "      <td>NaN</td>\n",
       "      <td>12</td>\n",
       "    </tr>\n",
       "    <tr>\n",
       "      <th>12</th>\n",
       "      <td>G_13</td>\n",
       "      <td>NaN</td>\n",
       "      <td>13</td>\n",
       "    </tr>\n",
       "    <tr>\n",
       "      <th>13</th>\n",
       "      <td>G_14</td>\n",
       "      <td>NaN</td>\n",
       "      <td>14</td>\n",
       "    </tr>\n",
       "    <tr>\n",
       "      <th>14</th>\n",
       "      <td>G_15</td>\n",
       "      <td>NaN</td>\n",
       "      <td>15</td>\n",
       "    </tr>\n",
       "    <tr>\n",
       "      <th>15</th>\n",
       "      <td>G_16</td>\n",
       "      <td>NaN</td>\n",
       "      <td>16</td>\n",
       "    </tr>\n",
       "    <tr>\n",
       "      <th>8</th>\n",
       "      <td>G_44</td>\n",
       "      <td>NaN</td>\n",
       "      <td>44</td>\n",
       "    </tr>\n",
       "    <tr>\n",
       "      <th>16</th>\n",
       "      <td>G_49</td>\n",
       "      <td>NaN</td>\n",
       "      <td>49</td>\n",
       "    </tr>\n",
       "    <tr>\n",
       "      <th>17</th>\n",
       "      <td>G_50</td>\n",
       "      <td>NaN</td>\n",
       "      <td>50</td>\n",
       "    </tr>\n",
       "  </tbody>\n",
       "</table>\n",
       "</div>"
      ],
      "text/plain": [
       "   cut mention graph  degree assortativity coefficient  cut-off values\n",
       "0                G_1                         -0.096938               1\n",
       "1                G_2                         -0.130626               2\n",
       "2                G_3                         -0.129394               3\n",
       "3                G_4                         -0.089751               4\n",
       "4                G_5                         -0.074838               5\n",
       "5                G_6                         -0.105821               6\n",
       "6                G_7                         -0.117335               7\n",
       "7                G_8                         -0.299187               8\n",
       "18               G_9                         -0.356348               9\n",
       "9               G_10                               NaN              10\n",
       "10              G_11                               NaN              11\n",
       "11              G_12                               NaN              12\n",
       "12              G_13                               NaN              13\n",
       "13              G_14                               NaN              14\n",
       "14              G_15                               NaN              15\n",
       "15              G_16                               NaN              16\n",
       "8               G_44                               NaN              44\n",
       "16              G_49                               NaN              49\n",
       "17              G_50                               NaN              50"
      ]
     },
     "execution_count": 120,
     "metadata": {},
     "output_type": "execute_result"
    }
   ],
   "source": [
    "cdf=pd.DataFrame(ddd)\n",
    "cdf.columns = ['cut mention graph', 'degree assortativity coefficient']\n",
    "cdf['cut-off values']=GG.keys()\n",
    "cdf=cdf.sort(['cut-off values'], ascending=[True])\n",
    "cdf"
   ]
  },
  {
   "cell_type": "code",
   "execution_count": 7,
   "metadata": {
    "collapsed": false,
    "deletable": true,
    "editable": true
   },
   "outputs": [
    {
     "data": {
      "text/html": [
       "<div>\n",
       "<table border=\"1\" class=\"dataframe\">\n",
       "  <thead>\n",
       "    <tr style=\"text-align: right;\">\n",
       "      <th></th>\n",
       "      <th>cut mention graph</th>\n",
       "      <th>degree assortativity coefficient</th>\n",
       "      <th>cut-off values</th>\n",
       "    </tr>\n",
       "  </thead>\n",
       "  <tbody>\n",
       "    <tr>\n",
       "      <th>0</th>\n",
       "      <td>G_1</td>\n",
       "      <td>-0.134745</td>\n",
       "      <td>1</td>\n",
       "    </tr>\n",
       "    <tr>\n",
       "      <th>1</th>\n",
       "      <td>G_2</td>\n",
       "      <td>-0.142667</td>\n",
       "      <td>2</td>\n",
       "    </tr>\n",
       "    <tr>\n",
       "      <th>2</th>\n",
       "      <td>G_3</td>\n",
       "      <td>-0.141643</td>\n",
       "      <td>3</td>\n",
       "    </tr>\n",
       "    <tr>\n",
       "      <th>3</th>\n",
       "      <td>G_4</td>\n",
       "      <td>-0.092862</td>\n",
       "      <td>4</td>\n",
       "    </tr>\n",
       "    <tr>\n",
       "      <th>4</th>\n",
       "      <td>G_5</td>\n",
       "      <td>-0.074387</td>\n",
       "      <td>5</td>\n",
       "    </tr>\n",
       "    <tr>\n",
       "      <th>5</th>\n",
       "      <td>G_6</td>\n",
       "      <td>-0.111659</td>\n",
       "      <td>6</td>\n",
       "    </tr>\n",
       "    <tr>\n",
       "      <th>6</th>\n",
       "      <td>G_7</td>\n",
       "      <td>-0.119048</td>\n",
       "      <td>7</td>\n",
       "    </tr>\n",
       "    <tr>\n",
       "      <th>7</th>\n",
       "      <td>G_8</td>\n",
       "      <td>-0.239243</td>\n",
       "      <td>8</td>\n",
       "    </tr>\n",
       "    <tr>\n",
       "      <th>18</th>\n",
       "      <td>G_9</td>\n",
       "      <td>-0.260417</td>\n",
       "      <td>9</td>\n",
       "    </tr>\n",
       "    <tr>\n",
       "      <th>9</th>\n",
       "      <td>G_10</td>\n",
       "      <td>-0.111111</td>\n",
       "      <td>10</td>\n",
       "    </tr>\n",
       "    <tr>\n",
       "      <th>10</th>\n",
       "      <td>G_11</td>\n",
       "      <td>-0.090909</td>\n",
       "      <td>11</td>\n",
       "    </tr>\n",
       "    <tr>\n",
       "      <th>11</th>\n",
       "      <td>G_12</td>\n",
       "      <td>-0.111111</td>\n",
       "      <td>12</td>\n",
       "    </tr>\n",
       "    <tr>\n",
       "      <th>12</th>\n",
       "      <td>G_13</td>\n",
       "      <td>1.000000</td>\n",
       "      <td>13</td>\n",
       "    </tr>\n",
       "    <tr>\n",
       "      <th>13</th>\n",
       "      <td>G_14</td>\n",
       "      <td>1.000000</td>\n",
       "      <td>14</td>\n",
       "    </tr>\n",
       "    <tr>\n",
       "      <th>14</th>\n",
       "      <td>G_15</td>\n",
       "      <td>1.000000</td>\n",
       "      <td>15</td>\n",
       "    </tr>\n",
       "    <tr>\n",
       "      <th>15</th>\n",
       "      <td>G_16</td>\n",
       "      <td>1.000000</td>\n",
       "      <td>16</td>\n",
       "    </tr>\n",
       "    <tr>\n",
       "      <th>8</th>\n",
       "      <td>G_44</td>\n",
       "      <td>1.000000</td>\n",
       "      <td>44</td>\n",
       "    </tr>\n",
       "    <tr>\n",
       "      <th>16</th>\n",
       "      <td>G_49</td>\n",
       "      <td>1.000000</td>\n",
       "      <td>49</td>\n",
       "    </tr>\n",
       "    <tr>\n",
       "      <th>17</th>\n",
       "      <td>G_50</td>\n",
       "      <td>1.000000</td>\n",
       "      <td>50</td>\n",
       "    </tr>\n",
       "  </tbody>\n",
       "</table>\n",
       "</div>"
      ],
      "text/plain": [
       "   cut mention graph  degree assortativity coefficient  cut-off values\n",
       "0                G_1                         -0.134745               1\n",
       "1                G_2                         -0.142667               2\n",
       "2                G_3                         -0.141643               3\n",
       "3                G_4                         -0.092862               4\n",
       "4                G_5                         -0.074387               5\n",
       "5                G_6                         -0.111659               6\n",
       "6                G_7                         -0.119048               7\n",
       "7                G_8                         -0.239243               8\n",
       "18               G_9                         -0.260417               9\n",
       "9               G_10                         -0.111111              10\n",
       "10              G_11                         -0.090909              11\n",
       "11              G_12                         -0.111111              12\n",
       "12              G_13                          1.000000              13\n",
       "13              G_14                          1.000000              14\n",
       "14              G_15                          1.000000              15\n",
       "15              G_16                          1.000000              16\n",
       "8               G_44                          1.000000              44\n",
       "16              G_49                          1.000000              49\n",
       "17              G_50                          1.000000              50"
      ]
     },
     "execution_count": 7,
     "metadata": {},
     "output_type": "execute_result"
    }
   ],
   "source": [
    "cdf=pd.DataFrame(ddd)\n",
    "cdf.columns = ['cut mention graph', 'degree assortativity coefficient']\n",
    "cdf['cut-off values']=GG.keys()\n",
    "cdf=cdf.sort(['cut-off values'], ascending=[True])\n",
    "cdf"
   ]
  },
  {
   "cell_type": "code",
   "execution_count": 121,
   "metadata": {
    "collapsed": false,
    "deletable": true,
    "editable": true
   },
   "outputs": [],
   "source": [
    "cdf.to_pickle(\"/home/dell/Dropbox/GradRes/DiplwmatikiGP/dataframes/df5_2_2\")\n",
    "# cdf.to_pickle(\"/home/mosesboudourides/Dropbox/GradRes/DiplwmatikiGP/dataframes/df5_2_2\")"
   ]
  },
  {
   "cell_type": "code",
   "execution_count": 122,
   "metadata": {
    "collapsed": false,
    "deletable": true,
    "editable": true
   },
   "outputs": [
    {
     "data": {
      "image/png": "[encoded data removed]",
      "text/plain": [
       "<matplotlib.figure.Figure at 0x7f9531ef81d0>"
      ]
     },
     "metadata": {},
     "output_type": "display_data"
    }
   ],
   "source": [
    "x = cdf[\"cut mention graph\"]\n",
    "y = cdf[\"degree assortativity coefficient\"]\n",
    "plt.figure(figsize=(18,18))\n",
    "\n",
    "ax = sns.pointplot(x, y)\n",
    "\n",
    "ax.set(xlabel='Cut Mention Graph',ylabel='Degree Assortativity Coefficient')\n",
    "sns.set(font='sans-serif', font_scale=3)\n",
    "sns.despine(ax=ax, bottom=True, left=True)\n"
   ]
  },
  {
   "cell_type": "code",
   "execution_count": 133,
   "metadata": {
    "collapsed": false,
    "deletable": true,
    "editable": true
   },
   "outputs": [
    {
     "data": {
      "image/png": "[encoded data removed]",
      "text/plain": [
       "<matplotlib.figure.Figure at 0x7f952f3dd490>"
      ]
     },
     "metadata": {},
     "output_type": "display_data"
    }
   ],
   "source": [
    "x = cdf[\"cut mention graph\"]\n",
    "y = cdf[\"degree assortativity coefficient\"]\n",
    "plt.figure(figsize=(18,18))\n",
    "\n",
    "ax = sns.barplot(x, y)\n",
    "\n",
    "ax.set(xlabel='Cut Mention Graph',ylabel='Degree Assortativity Coefficient')\n",
    "sns.set(font='sans-serif', font_scale=1)\n",
    "sns.despine(ax=ax, bottom=True, left=True)\n",
    "\n",
    "ax.set_axis_bgcolor('white')\n",
    "\n",
    "plt.show()"
   ]
  },
  {
   "cell_type": "code",
   "execution_count": null,
   "metadata": {
    "collapsed": true,
    "deletable": true,
    "editable": true
   },
   "outputs": [],
   "source": []
  }
 ],
 "metadata": {
  "kernelspec": {
   "display_name": "Python 2",
   "language": "python",
   "name": "python2"
  },
  "language_info": {
   "codemirror_mode": {
    "name": "ipython",
    "version": 2
   },
   "file_extension": ".py",
   "mimetype": "text/x-python",
   "name": "python",
   "nbconvert_exporter": "python",
   "pygments_lexer": "ipython2",
   "version": "2.7.12"
  }
 },
 "nbformat": 4,
 "nbformat_minor": 0
}
