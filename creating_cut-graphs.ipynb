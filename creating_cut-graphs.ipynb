{
 "cells": [
  {
   "cell_type": "code",
   "execution_count": 2,
   "metadata": {
    "collapsed": false,
    "deletable": true,
    "editable": true
   },
   "outputs": [],
   "source": [
    "import warnings\n",
    "warnings.filterwarnings(\"ignore\")\n",
    "\n",
    "import pandas as pd\n",
    "from pandas.tools.plotting import scatter_matrix\n",
    "import json \n",
    "import os\n",
    "import imp\n",
    "import networkx as nx\n",
    "from collections import Counter\n",
    "import itertools as it\n",
    "import seaborn as sns\n",
    "# sns.set()\n",
    "sns.set_style(\"white\")\n",
    "sns.set_style(\"ticks\") \n",
    "%load_ext autoreload\n",
    "import collections\n",
    "import matplotlib.pyplot as plt\n",
    "%matplotlib inline\n",
    "import random\n",
    "from scipy import stats\n",
    "import numpy as np\n",
    "import math\n",
    "import pickle"
   ]
  },
  {
   "cell_type": "code",
   "execution_count": 3,
   "metadata": {
    "collapsed": false,
    "deletable": true,
    "editable": true
   },
   "outputs": [
    {
     "name": "stdout",
     "output_type": "stream",
     "text": [
      "I am being imported from another module\n",
      "The number of cut hashtag networks is: 141\n",
      "\n",
      "The list of cuts in hashtag networks is:\n",
      "[1452, 1409, 1263, 1218, 1135, 1087, 726, 666, 618, 585, 526, 491, 388, 382, 345, 326, 321, 290, 256, 246, 245, 239, 238, 231, 230, 214, 211, 206, 203, 193, 182, 181, 178, 170, 169, 161, 160, 157, 155, 151, 147, 145, 136, 134, 131, 123, 122, 117, 115, 111, 108, 101, 98, 97, 96, 94, 93, 89, 88, 87, 86, 84, 82, 80, 79, 77, 76, 75, 74, 73, 72, 71, 70, 68, 67, 66, 65, 64, 63, 62, 61, 60, 59, 58, 57, 56, 55, 54, 53, 52, 51, 50, 49, 48, 47, 46, 45, 44, 43, 42, 41, 40, 39, 38, 37, 36, 35, 34, 33, 32, 31, 30, 29, 28, 27, 26, 25, 24, 23, 22, 21, 20, 19, 18, 17, 16, 15, 14, 13, 12, 11, 10, 9, 8, 7, 6, 5, 4, 3, 2, 1]\n"
     ]
    }
   ],
   "source": [
    "# input_dir='/home/dell/Dropbox/GradRes/DiplwmatikiGP/Notebooks'\n",
    "input_dir='/home/mosesboudourides/Dropbox/GradRes/DiplwmatikiGP/Notebooks'\n",
    "\n",
    "pp= !pwd\n",
    "os.chdir(input_dir)\n",
    "from test_class_tpa import create_df\n",
    "import utils\n",
    "os.chdir(pp[0])\n",
    "\n",
    "def create_beaker_com_dict(sps):\n",
    "    nsps={}\n",
    "    for k,v in sps.items():\n",
    "        nsps[k]=[]\n",
    "        if k=='date_split':\n",
    "            for kk in sorted(v.keys()):\n",
    "                nsps[k].append(v[kk].strftime('%Y%m%d'))\n",
    "        else:\n",
    "            for kk in sorted(v.keys()):\n",
    "                nsps[k].append(v[kk])\n",
    "\n",
    "    return nsps\n",
    "\n",
    "\n",
    "filedir='/home/mosesboudourides/Dropbox/GradRes/DiplwmatikiGP/Graphml nets/hashtags_co-occur_network_0.gpic'\n",
    "# filedir='/home/mosesboudourides/Dropbox/GradRes/DiplwmatikiGP/Graphml nets/users_mentions_network_0.gpic'\n",
    "# filedir='/home/dell/Dropbox/GradRes/DiplwmatikiGP/Graphml nets/users_mentions_network_0.gpic'\n",
    "# filedir='/home/dell/Dropbox/GradRes/DiplwmatikiGP/Graphml nets/hashtags_co-occur_network_0.gpic'\n",
    "\n",
    "\n",
    "G=nx.read_gpickle(filedir)\n",
    "\n",
    "\n",
    "edw={}\n",
    "\n",
    "for ed in G.edges(data=True):\n",
    "#     print ed[0],ed[1],ed[2]\n",
    "    wei=ed[2]['weight']\n",
    "#     print wei\n",
    "    if wei not in edw:\n",
    "        edw[wei]=[]\n",
    "#     print sorted(ed[0],ed[1])\n",
    "    edw[wei].append(sorted([ed[0],ed[1]]))\n",
    "print \"The number of cut hashtag networks is:\", len(set(edw.keys()))\n",
    "\n",
    "\n",
    "nodes_coff={}\n",
    "for ww,nds in edw.items():\n",
    "    if ww not in nodes_coff:\n",
    "        nodes_coff[ww]=set()\n",
    "    for nd in nds:\n",
    "        nodes_coff[ww].add(nd[0])\n",
    "        nodes_coff[ww].add(nd[1])\n",
    "\n",
    "lc=nodes_coff.keys()\n",
    "print\n",
    "print \"The list of cuts in hashtag networks is:\"\n",
    "print sorted(lc,reverse=True)"
   ]
  },
  {
   "cell_type": "code",
   "execution_count": 10,
   "metadata": {
    "collapsed": false,
    "deletable": true,
    "editable": true
   },
   "outputs": [],
   "source": [
    "GG={}\n",
    "import glob,os\n",
    "fildir='/home/mosesboudourides/Dropbox/GradRes/DiplwmatikiGP/Graphml nets/cut_hashtag_networks'\n",
    "# fildir='/home/dell/Dropbox/GradRes/DiplwmatikiGP/Graphml nets/cut_hashtag_networks'\n",
    "\n",
    "lww=[]\n",
    "\n",
    "os.chdir(fildir)\n",
    "graphnames=glob.glob('*.gpic')\n",
    "if len(graphnames)==0:\n",
    "    print 'No graphs'\n",
    "for grns in graphnames:\n",
    "    ww=int(grns.split('_')[-1].split('.')[0])\n",
    "    G=nx.read_gpickle(grns)\n",
    "    \n",
    "    G.name=\"G_%s\" %ww\n",
    "    GG[ww]=G\n",
    "    lww.append(ww)\n"
   ]
  },
  {
   "cell_type": "code",
   "execution_count": 8,
   "metadata": {
    "collapsed": false,
    "deletable": true,
    "editable": true
   },
   "outputs": [],
   "source": [
    "pickle.dump( GG, open( \"GGh.p\", \"wb\" ) )"
   ]
  },
  {
   "cell_type": "code",
   "execution_count": 14,
   "metadata": {
    "collapsed": false,
    "deletable": true,
    "editable": true
   },
   "outputs": [
    {
     "name": "stdout",
     "output_type": "stream",
     "text": [
      "The number of cut mention networks is: 19\n",
      "\n",
      "The list of cuts in mention networks is:\n",
      "[50, 49, 44, 16, 15, 14, 13, 12, 11, 10, 9, 8, 7, 6, 5, 4, 3, 2, 1]\n"
     ]
    }
   ],
   "source": [
    "# input_dir='/home/dell/Dropbox/GradRes/DiplwmatikiGP/Notebooks'\n",
    "input_dir='/home/mosesboudourides/Dropbox/GradRes/DiplwmatikiGP/Notebooks'\n",
    "\n",
    "pp= !pwd\n",
    "os.chdir(input_dir)\n",
    "from test_class_tpa import create_df\n",
    "import utils\n",
    "os.chdir(pp[0])\n",
    "\n",
    "def create_beaker_com_dict(sps):\n",
    "    nsps={}\n",
    "    for k,v in sps.items():\n",
    "        nsps[k]=[]\n",
    "        if k=='date_split':\n",
    "            for kk in sorted(v.keys()):\n",
    "                nsps[k].append(v[kk].strftime('%Y%m%d'))\n",
    "        else:\n",
    "            for kk in sorted(v.keys()):\n",
    "                nsps[k].append(v[kk])\n",
    "\n",
    "    return nsps\n",
    "\n",
    "\n",
    "# filedir='/home/mosesboudourides/Dropbox/GradRes/DiplwmatikiGP/Graphml nets/hashtags_co-occur_network_0.gpic'\n",
    "filedir='/home/mosesboudourides/Dropbox/GradRes/DiplwmatikiGP/Graphml nets/users_mentions_network_0.gpic'\n",
    "# filedir='/home/dell/Dropbox/GradRes/DiplwmatikiGP/Graphml nets/users_mentions_network_0.gpic'\n",
    "# filedir='/home/dell/Dropbox/GradRes/DiplwmatikiGP/Graphml nets/hashtags_co-occur_network_0.gpic'\n",
    "\n",
    "\n",
    "G=nx.read_gpickle(filedir)\n",
    "\n",
    "\n",
    "edw={}\n",
    "\n",
    "for ed in G.edges(data=True):\n",
    "#     print ed[0],ed[1],ed[2]\n",
    "    wei=ed[2]['weight']\n",
    "#     print wei\n",
    "    if wei not in edw:\n",
    "        edw[wei]=[]\n",
    "#     print sorted(ed[0],ed[1])\n",
    "    edw[wei].append(sorted([ed[0],ed[1]]))\n",
    "print \"The number of cut mention networks is:\", len(set(edw.keys()))\n",
    "\n",
    "\n",
    "nodes_coff={}\n",
    "for ww,nds in edw.items():\n",
    "    if ww not in nodes_coff:\n",
    "        nodes_coff[ww]=set()\n",
    "    for nd in nds:\n",
    "#         print ww,nd\n",
    "        nodes_coff[ww].add(nd[0])\n",
    "        nodes_coff[ww].add(nd[1])\n",
    "\n",
    "lc=nodes_coff.keys()\n",
    "# nod_to_keep=utils.get_nodes_to_keep(G,weight_cut)\n",
    "print\n",
    "# print nodes_coff\n",
    "print \"The list of cuts in mention networks is:\"\n",
    "print sorted(lc,reverse=True)"
   ]
  },
  {
   "cell_type": "code",
   "execution_count": 15,
   "metadata": {
    "collapsed": true,
    "deletable": true,
    "editable": true
   },
   "outputs": [],
   "source": [
    "GG={}\n",
    "import glob,os\n",
    "fildir='/home/mosesboudourides/Dropbox/GradRes/DiplwmatikiGP/Graphml nets/cut_mention_networks'\n",
    "# fildir='/home/dell/Dropbox/GradRes/DiplwmatikiGP/Graphml nets/cut_mention_networks'\n",
    "\n",
    "lww=[]\n",
    "\n",
    "os.chdir(fildir)\n",
    "graphnames=glob.glob('*.gpic')\n",
    "if len(graphnames)==0:\n",
    "    print 'No graphs'\n",
    "for grns in graphnames:\n",
    "    ww=int(grns.split('_')[-1].split('.')[0])\n",
    "    G=nx.read_gpickle(grns)\n",
    "    \n",
    "    G.name=\"G_%s\" %ww\n",
    "    GG[ww]=G\n",
    "    lww.append(ww)\n"
   ]
  },
  {
   "cell_type": "code",
   "execution_count": 16,
   "metadata": {
    "collapsed": true,
    "deletable": true,
    "editable": true
   },
   "outputs": [],
   "source": [
    "pickle.dump( GG, open( \"GGm.p\", \"wb\" ) )"
   ]
  },
  {
   "cell_type": "code",
   "execution_count": null,
   "metadata": {
    "collapsed": true,
    "deletable": true,
    "editable": true
   },
   "outputs": [],
   "source": []
  }
 ],
 "metadata": {
  "kernelspec": {
   "display_name": "Python 2",
   "language": "python",
   "name": "python2"
  },
  "language_info": {
   "codemirror_mode": {
    "name": "ipython",
    "version": 2
   },
   "file_extension": ".py",
   "mimetype": "text/x-python",
   "name": "python",
   "nbconvert_exporter": "python",
   "pygments_lexer": "ipython2",
   "version": "2.7.12"
  }
 },
 "nbformat": 4,
 "nbformat_minor": 0
}
